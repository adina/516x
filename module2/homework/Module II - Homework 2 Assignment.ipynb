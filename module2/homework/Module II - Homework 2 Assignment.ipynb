{
 "cells": [
  {
   "cell_type": "markdown",
   "metadata": {},
   "source": [
    "# Homework 2. Exploratory Data Analysis\n",
    "\n",
    "\n",
    "---"
   ]
  },
  {
   "cell_type": "markdown",
   "metadata": {},
   "source": [
    "## Introduction\n",
    "\n",
    "In this homework we ask you three questions that we expect you to answer using data. For each question we ask you to complete a series of tasks that should help guide you through the data analysis. Complete these tasks and then write a short (100 words or less) answer to the question.\n",
    "\n",
    "#### Data\n",
    "For this assignment we will use two databases: \n",
    "\n",
    "1. The Sean Lahman's Baseball Database which contains the \"complete batting and pitching statistics from 1871 to 2013, plus fielding statistics, standings, team stats, managerial records, post-season data, and more. For more details on the latest release, please [visit the repository](http://seanlahman.com/).\"\n",
    "\n",
    "2. [Gapminder](http://www.gapminder.org) is a great resource that contains over [500 data sets](http://www.gapminder.org/data/) related to world indicators such as income, GDP and life expectancy. \n",
    "\n",
    "I have put these datasets into the data folder of the class folder (repository).\n",
    "\n",
    "#### Purpose\n",
    "\n",
    "In this assignment, you will learn how to: \n",
    "\n",
    "a. Load in CSV files from the web. \n",
    "\n",
    "b. Create functions in python. \n",
    "\n",
    "C. Create plots and summary statistics for exploratory data analysis such as histograms, boxplots and scatter plots. \n",
    "\n",
    "\n",
    "#### Useful libraries for this assignment\n",
    "You will need to have run the install instructions to install pandas and matplotlib (2025).\n",
    "\n",
    "* [numpy](http://docs.scipy.org/doc/numpy-dev/user/index.html), for arrays\n",
    "* [pandas](http://pandas.pydata.org/), for data frames\n",
    "* [matplotlib](http://matplotlib.org/), for plotting\n",
    "\n",
    "---"
   ]
  },
  {
   "cell_type": "code",
   "execution_count": 1,
   "metadata": {},
   "outputs": [],
   "source": [
    "%matplotlib inline "
   ]
  },
  {
   "cell_type": "markdown",
   "metadata": {},
   "source": [
    "## Problem 1\n",
    "Obtain the CSV files from Sean Lahman's Baseball Database into the same directory as this notebook. For this assignment, we will use the 'Salaries-1.csv' and 'Teams-1.csv' tables. \n",
    "\n",
    "You are asked to whether you see a competitive advantage in years 2001-2003 for the Oakland baseball team compared to other teams.  How would you do this?  (Hint:  Analayze wins vs. Salaries in different years for Oakland vs other teams).\n",
    "\n",
    "Strategies to accomplish this task:  \n",
    "* Summarize the total salaries for each team for each year in a DataFrame.  You should be able to print a data frame that shows the year, team, and salary for the year (summed)\n",
    "* Merging datasets containing joinable information.  You should merge this salary data frame above with the team information (especially the wins since you are looking at competitive advantages).\n",
    "* Making a plot of Salaries and Wins for all teams for various years (If youc an do this with a for loop to iterate through a list of years, it would be a pro move)\n",
    "* Clear annotation of OAK within the plots - [Hint](https://matplotlib.org/3.1.1/gallery/text_labels_and_annotations/annotation_demo.html)"
   ]
  },
  {
   "cell_type": "markdown",
   "metadata": {},
   "source": [
    "## Discussion for Problem 1\n",
    "\n",
    "*Write a brief discussion of your conclusions to the questions and tasks above in 100 words or less.*\n",
    "\n"
   ]
  },
  {
   "cell_type": "markdown",
   "metadata": {},
   "source": [
    "## Problem 2\n",
    "\n",
    "Several media reports have demonstrated the income inequality has increased in the US during this last decade. Here we will look at global data. Use exploratory data analysis to determine if the gap between Africa/Latin America/Asia and Europe/NorthAmerica has increased, decreased or stayed the same during the last two decades. \n",
    "\n",
    "\n",
    "Using the list of countries by continent from [World Atlas](http://www.worldatlas.com/cntycont.htm) data, load in the `countries.csv` file into a pandas DataFrame and name this data set as `countries`. \n",
    "\n",
    "Using the [data available on Gapminder](https://github.com/isu-abe/516x/blob/master/data/income_per_person_gdppercapita_ppp_inflation_adjusted.csv), load in the Income per person (GDP/capita, PPP$ inflation-adjusted) as a pandas DataFrame and name this data set as `income`.  The spreadsheet contains the GDP per capita for each country by year.\n",
    "\n",
    "\n",
    "Determine if the gap between different regions of the world has increased, decreased, or stayed the same over the last two decades.\n",
    "\n",
    "Strategies for this task may include:\n",
    "* Make a data frame of coutnries and their regions (i.e., Algeria is associated with Africa)\n",
    "* Make a data frame of incomes of countries (suggest that countries be on the rows and years on the columns)\n",
    "* Wrangling avaialable dataset so that it can be successfully queried by year.  This means that maybe you can write a function that if you give the function a year, it will extract a dataframe where the info is the income of the eyar, the country, and the region.\n",
    "* Making visualization(s) (like a boxplot) that would allow you explore the distribution of income in a single region for multiple years.  This could be a box with regions on the x-axis and income per person as the y-axis."
   ]
  },
  {
   "cell_type": "markdown",
   "metadata": {},
   "source": [
    "## Discussion for Problem 2\n",
    "\n",
    "*Write a brief discussion of your conclusions to the questions and tasks above in 100 words or less.*\n"
   ]
  },
  {
   "cell_type": "code",
   "execution_count": null,
   "metadata": {},
   "outputs": [],
   "source": []
  }
 ],
 "metadata": {
  "kernelspec": {
   "display_name": "Python 3 (ipykernel)",
   "language": "python",
   "name": "python3"
  },
  "language_info": {
   "codemirror_mode": {
    "name": "ipython",
    "version": 3
   },
   "file_extension": ".py",
   "mimetype": "text/x-python",
   "name": "python",
   "nbconvert_exporter": "python",
   "pygments_lexer": "ipython3",
   "version": "3.11.4"
  }
 },
 "nbformat": 4,
 "nbformat_minor": 1
}
