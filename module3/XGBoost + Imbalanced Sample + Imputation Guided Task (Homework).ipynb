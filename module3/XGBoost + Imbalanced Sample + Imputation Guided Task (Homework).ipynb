{
 "cells": [
  {
   "cell_type": "markdown",
   "id": "270b7fe7",
   "metadata": {},
   "source": [
    "# Imbalanced Classes, XGBoost, and Imputation - Homework Version\n",
    "\n",
    "This is a copy of the guided task Notebook with most of the prose cut out so that you can focus on the code and the assignment questions.\n",
    "\n",
    "## Class Imbalances\n"
   ]
  },
  {
   "cell_type": "code",
   "execution_count": 1,
   "id": "5eda57e5",
   "metadata": {},
   "outputs": [
    {
     "data": {
      "text/html": [
       "<div>\n",
       "<style scoped>\n",
       "    .dataframe tbody tr th:only-of-type {\n",
       "        vertical-align: middle;\n",
       "    }\n",
       "\n",
       "    .dataframe tbody tr th {\n",
       "        vertical-align: top;\n",
       "    }\n",
       "\n",
       "    .dataframe thead th {\n",
       "        text-align: right;\n",
       "    }\n",
       "</style>\n",
       "<table border=\"1\" class=\"dataframe\">\n",
       "  <thead>\n",
       "    <tr style=\"text-align: right;\">\n",
       "      <th></th>\n",
       "      <th>microcystin</th>\n",
       "      <th>x16s</th>\n",
       "      <th>mcy_a</th>\n",
       "      <th>doc_ppm</th>\n",
       "      <th>ortho_p_mg_p_l</th>\n",
       "      <th>tkn_mg_n_l</th>\n",
       "      <th>cl_mg_cl_l</th>\n",
       "      <th>p_h</th>\n",
       "      <th>tp</th>\n",
       "      <th>mcya_16s</th>\n",
       "      <th>HAB_next_week</th>\n",
       "    </tr>\n",
       "  </thead>\n",
       "  <tbody>\n",
       "    <tr>\n",
       "      <th>0</th>\n",
       "      <td>0.000</td>\n",
       "      <td>1.946514e+07</td>\n",
       "      <td>0.0</td>\n",
       "      <td>3.899</td>\n",
       "      <td>0.0650</td>\n",
       "      <td>0.180</td>\n",
       "      <td>16.994</td>\n",
       "      <td>7.70</td>\n",
       "      <td>0.5380</td>\n",
       "      <td>0.0</td>\n",
       "      <td>0</td>\n",
       "    </tr>\n",
       "    <tr>\n",
       "      <th>1</th>\n",
       "      <td>0.000</td>\n",
       "      <td>4.278451e+06</td>\n",
       "      <td>0.0</td>\n",
       "      <td>4.689</td>\n",
       "      <td>0.0340</td>\n",
       "      <td>0.282</td>\n",
       "      <td>16.738</td>\n",
       "      <td>7.81</td>\n",
       "      <td>0.0570</td>\n",
       "      <td>0.0</td>\n",
       "      <td>0</td>\n",
       "    </tr>\n",
       "    <tr>\n",
       "      <th>2</th>\n",
       "      <td>0.230</td>\n",
       "      <td>6.102315e+05</td>\n",
       "      <td>0.0</td>\n",
       "      <td>3.886</td>\n",
       "      <td>0.0401</td>\n",
       "      <td>0.346</td>\n",
       "      <td>16.352</td>\n",
       "      <td>8.13</td>\n",
       "      <td>0.0961</td>\n",
       "      <td>0.0</td>\n",
       "      <td>0</td>\n",
       "    </tr>\n",
       "    <tr>\n",
       "      <th>3</th>\n",
       "      <td>0.743</td>\n",
       "      <td>5.582701e+06</td>\n",
       "      <td>0.0</td>\n",
       "      <td>3.824</td>\n",
       "      <td>0.0230</td>\n",
       "      <td>0.365</td>\n",
       "      <td>14.867</td>\n",
       "      <td>8.19</td>\n",
       "      <td>0.0180</td>\n",
       "      <td>0.0</td>\n",
       "      <td>0</td>\n",
       "    </tr>\n",
       "    <tr>\n",
       "      <th>4</th>\n",
       "      <td>0.038</td>\n",
       "      <td>1.010385e+07</td>\n",
       "      <td>0.0</td>\n",
       "      <td>2.248</td>\n",
       "      <td>0.0810</td>\n",
       "      <td>0.858</td>\n",
       "      <td>15.754</td>\n",
       "      <td>8.06</td>\n",
       "      <td>0.3680</td>\n",
       "      <td>0.0</td>\n",
       "      <td>0</td>\n",
       "    </tr>\n",
       "  </tbody>\n",
       "</table>\n",
       "</div>"
      ],
      "text/plain": [
       "   microcystin          x16s  mcy_a  doc_ppm  ortho_p_mg_p_l  tkn_mg_n_l  \\\n",
       "0        0.000  1.946514e+07    0.0    3.899          0.0650       0.180   \n",
       "1        0.000  4.278451e+06    0.0    4.689          0.0340       0.282   \n",
       "2        0.230  6.102315e+05    0.0    3.886          0.0401       0.346   \n",
       "3        0.743  5.582701e+06    0.0    3.824          0.0230       0.365   \n",
       "4        0.038  1.010385e+07    0.0    2.248          0.0810       0.858   \n",
       "\n",
       "   cl_mg_cl_l   p_h      tp  mcya_16s  HAB_next_week  \n",
       "0      16.994  7.70  0.5380       0.0              0  \n",
       "1      16.738  7.81  0.0570       0.0              0  \n",
       "2      16.352  8.13  0.0961       0.0              0  \n",
       "3      14.867  8.19  0.0180       0.0              0  \n",
       "4      15.754  8.06  0.3680       0.0              0  "
      ]
     },
     "execution_count": 1,
     "metadata": {},
     "output_type": "execute_result"
    }
   ],
   "source": [
    "import pandas as pd\n",
    "import numpy as np\n",
    "import warnings\n",
    "warnings.filterwarnings('ignore')\n",
    "warnings.simplefilter('ignore')\n",
    "\n",
    "hab_all = pd.read_csv(\"data/DNR_complete.csv\")\n",
    "hab_all.head()"
   ]
  },
  {
   "cell_type": "code",
   "execution_count": 2,
   "id": "0e07b83d",
   "metadata": {},
   "outputs": [
    {
     "data": {
      "text/plain": [
       "(854, 11)"
      ]
     },
     "execution_count": 2,
     "metadata": {},
     "output_type": "execute_result"
    }
   ],
   "source": [
    "hab_all.shape"
   ]
  },
  {
   "cell_type": "code",
   "execution_count": 3,
   "id": "4882a659",
   "metadata": {},
   "outputs": [
    {
     "data": {
      "image/png": "[encoded data removed]",
      "text/plain": [
       "<Figure size 432x288 with 1 Axes>"
      ]
     },
     "metadata": {
      "needs_background": "light"
     },
     "output_type": "display_data"
    }
   ],
   "source": [
    "class_count = hab_all['HAB_next_week'].value_counts().rename({0: \"No HAB\", 1: \"HAB\"})\n",
    "\n",
    "hab_class_ratio = class_count[0] / class_count[1]\n",
    "\n",
    "class_count.plot(\n",
    "    kind='bar', \n",
    "    title=f'Class count\\nRatio: {hab_class_ratio:.2f}:1',\n",
    "    rot=0\n",
    ");\n",
    "    "
   ]
  },
  {
   "cell_type": "code",
   "execution_count": 6,
   "id": "f3b641e4",
   "metadata": {},
   "outputs": [],
   "source": [
    "df = hab_all.dropna()"
   ]
  },
  {
   "cell_type": "code",
   "execution_count": 8,
   "id": "7f59be1a",
   "metadata": {},
   "outputs": [],
   "source": [
    "from sklearn.model_selection import train_test_split\n",
    "\n",
    "X = df.drop('HAB_next_week', axis=1)\n",
    "y = df['HAB_next_week']\n",
    "X_train, X_test, y_train, y_test = train_test_split(\n",
    "    X, y, test_size=0.20, random_state=489,\n",
    "    stratify=y\n",
    ")"
   ]
  },
  {
   "cell_type": "markdown",
   "id": "0e44a381",
   "metadata": {},
   "source": [
    "### Homework questions 1\n",
    "\n",
    "1. Why are class imbalances bad?\n",
    "2. Why is accuracy a poor metric for prediction cases where there is a heavy class imbalance?\n",
    "3. Stratifying on the target class is always important. Why is it especially important for cases with a heavy class imbalance? \n",
    "    * Hint: What's the worst-case scenario for the training-test split on an imbalanced data set?\n"
   ]
  },
  {
   "cell_type": "code",
   "execution_count": 11,
   "id": "a0fed2f9",
   "metadata": {},
   "outputs": [],
   "source": [
    "import xgboost as xgb\n",
    "from sklearn.model_selection import train_test_split\n",
    "from sklearn.metrics import roc_auc_score, confusion_matrix, plot_confusion_matrix"
   ]
  },
  {
   "cell_type": "code",
   "execution_count": 12,
   "id": "6fd8c788",
   "metadata": {},
   "outputs": [
    {
     "name": "stdout",
     "output_type": "stream",
     "text": [
      "[0]\tvalidation_0-auc:0.74246\n",
      "[1]\tvalidation_0-auc:0.82708\n",
      "[2]\tvalidation_0-auc:0.83407\n",
      "[3]\tvalidation_0-auc:0.83370\n",
      "[4]\tvalidation_0-auc:0.83664\n",
      "[5]\tvalidation_0-auc:0.83664\n",
      "[6]\tvalidation_0-auc:0.83517\n",
      "[7]\tvalidation_0-auc:0.83002\n",
      "[8]\tvalidation_0-auc:0.83149\n",
      "[9]\tvalidation_0-auc:0.81898\n",
      "[10]\tvalidation_0-auc:0.85430\n",
      "[11]\tvalidation_0-auc:0.85578\n",
      "[12]\tvalidation_0-auc:0.84915\n",
      "[13]\tvalidation_0-auc:0.84547\n",
      "[14]\tvalidation_0-auc:0.84695\n",
      "[15]\tvalidation_0-auc:0.85136\n",
      "[16]\tvalidation_0-auc:0.86203\n",
      "[17]\tvalidation_0-auc:0.86461\n",
      "[18]\tvalidation_0-auc:0.84989\n",
      "[19]\tvalidation_0-auc:0.86902\n",
      "[20]\tvalidation_0-auc:0.85872\n",
      "[21]\tvalidation_0-auc:0.85357\n",
      "[22]\tvalidation_0-auc:0.85357\n",
      "[23]\tvalidation_0-auc:0.85725\n",
      "[24]\tvalidation_0-auc:0.84915\n",
      "[25]\tvalidation_0-auc:0.84474\n",
      "[26]\tvalidation_0-auc:0.85725\n",
      "[27]\tvalidation_0-auc:0.86461\n",
      "[28]\tvalidation_0-auc:0.85578\n",
      "[29]\tvalidation_0-auc:0.85725\n",
      "[30]\tvalidation_0-auc:0.86240\n",
      "[31]\tvalidation_0-auc:0.85725\n",
      "[32]\tvalidation_0-auc:0.85283\n",
      "[33]\tvalidation_0-auc:0.86313\n",
      "[34]\tvalidation_0-auc:0.87049\n",
      "[35]\tvalidation_0-auc:0.87270\n",
      "[36]\tvalidation_0-auc:0.86681\n",
      "[37]\tvalidation_0-auc:0.87123\n",
      "[38]\tvalidation_0-auc:0.87344\n",
      "[39]\tvalidation_0-auc:0.87785\n",
      "[40]\tvalidation_0-auc:0.87564\n",
      "[41]\tvalidation_0-auc:0.87491\n",
      "[42]\tvalidation_0-auc:0.87196\n",
      "[43]\tvalidation_0-auc:0.87196\n",
      "[44]\tvalidation_0-auc:0.87123\n",
      "[45]\tvalidation_0-auc:0.87196\n",
      "[46]\tvalidation_0-auc:0.87270\n",
      "[47]\tvalidation_0-auc:0.87344\n",
      "[48]\tvalidation_0-auc:0.87417\n",
      "[49]\tvalidation_0-auc:0.87859\n",
      "[50]\tvalidation_0-auc:0.87344\n",
      "[51]\tvalidation_0-auc:0.87491\n",
      "[52]\tvalidation_0-auc:0.87638\n",
      "[53]\tvalidation_0-auc:0.88079\n",
      "[54]\tvalidation_0-auc:0.87491\n",
      "[55]\tvalidation_0-auc:0.87638\n",
      "[56]\tvalidation_0-auc:0.88227\n",
      "[57]\tvalidation_0-auc:0.88447\n",
      "[58]\tvalidation_0-auc:0.88153\n",
      "[59]\tvalidation_0-auc:0.88153\n",
      "[60]\tvalidation_0-auc:0.88006\n",
      "[61]\tvalidation_0-auc:0.87785\n",
      "[62]\tvalidation_0-auc:0.87712\n",
      "[63]\tvalidation_0-auc:0.87417\n",
      "[64]\tvalidation_0-auc:0.87417\n",
      "[65]\tvalidation_0-auc:0.87712\n",
      "[66]\tvalidation_0-auc:0.87932\n",
      "[67]\tvalidation_0-auc:0.87932\n",
      "[68]\tvalidation_0-auc:0.88079\n",
      "[69]\tvalidation_0-auc:0.88006\n",
      "[70]\tvalidation_0-auc:0.88153\n",
      "[71]\tvalidation_0-auc:0.88374\n",
      "[72]\tvalidation_0-auc:0.88668\n",
      "[73]\tvalidation_0-auc:0.88447\n",
      "[74]\tvalidation_0-auc:0.88227\n",
      "[75]\tvalidation_0-auc:0.88153\n",
      "[76]\tvalidation_0-auc:0.88079\n",
      "[77]\tvalidation_0-auc:0.88521\n",
      "[78]\tvalidation_0-auc:0.88595\n",
      "[79]\tvalidation_0-auc:0.88374\n",
      "[80]\tvalidation_0-auc:0.88227\n",
      "[81]\tvalidation_0-auc:0.88374\n",
      "[82]\tvalidation_0-auc:0.88374\n",
      "[83]\tvalidation_0-auc:0.88447\n",
      "[84]\tvalidation_0-auc:0.88447\n",
      "[85]\tvalidation_0-auc:0.88300\n",
      "[86]\tvalidation_0-auc:0.88227\n",
      "[87]\tvalidation_0-auc:0.88227\n",
      "[88]\tvalidation_0-auc:0.88153\n",
      "[89]\tvalidation_0-auc:0.88227\n",
      "[90]\tvalidation_0-auc:0.88227\n",
      "[91]\tvalidation_0-auc:0.88006\n",
      "[92]\tvalidation_0-auc:0.88006\n"
     ]
    },
    {
     "data": {
      "text/plain": [
       "XGBClassifier(base_score=0.5, booster='gbtree', colsample_bylevel=1,\n",
       "              colsample_bynode=1, colsample_bytree=1, gamma=0, gpu_id=-1,\n",
       "              importance_type='gain', interaction_constraints='',\n",
       "              learning_rate=0.300000012, max_delta_step=0, max_depth=6,\n",
       "              min_child_weight=1, missing=nan, monotone_constraints='()',\n",
       "              n_estimators=100, n_jobs=4, num_parallel_tree=1, random_state=489,\n",
       "              reg_alpha=0, reg_lambda=1, scale_pos_weight=1, seed=489,\n",
       "              subsample=1, tree_method='exact', validate_parameters=1,\n",
       "              verbosity=None)"
      ]
     },
     "execution_count": 12,
     "metadata": {},
     "output_type": "execute_result"
    }
   ],
   "source": [
    "xgb_classifier = xgb.XGBClassifier(objective=\"binary:logistic\", seed=489)\n",
    "\n",
    "xgb_classifier.fit(X_train, y_train, verbose=True, early_stopping_rounds=20,\n",
    "                  eval_metric=\"auc\", eval_set=[(X_test, y_test)])"
   ]
  },
  {
   "cell_type": "code",
   "execution_count": 13,
   "id": "3cd88a68",
   "metadata": {},
   "outputs": [
    {
     "data": {
      "text/plain": [
       "XGBClassifier(base_score=0.5, booster='gbtree', colsample_bylevel=1,\n",
       "              colsample_bynode=1, colsample_bytree=1, gamma=0, gpu_id=-1,\n",
       "              importance_type='gain', interaction_constraints='',\n",
       "              learning_rate=0.300000012, max_delta_step=0, max_depth=6,\n",
       "              min_child_weight=1, missing=nan, monotone_constraints='()',\n",
       "              n_estimators=73, n_jobs=4, num_parallel_tree=1, random_state=489,\n",
       "              reg_alpha=0, reg_lambda=1, scale_pos_weight=1, seed=489,\n",
       "              subsample=1, tree_method='exact', validate_parameters=1,\n",
       "              verbosity=None)"
      ]
     },
     "execution_count": 13,
     "metadata": {},
     "output_type": "execute_result"
    }
   ],
   "source": [
    "xgb_classifier.set_params(**{'n_estimators': xgb_classifier.best_ntree_limit})"
   ]
  },
  {
   "cell_type": "code",
   "execution_count": 14,
   "id": "63dad341",
   "metadata": {},
   "outputs": [
    {
     "data": {
      "image/png": "[encoded data removed]",
      "text/plain": [
       "<Figure size 432x288 with 2 Axes>"
      ]
     },
     "metadata": {
      "needs_background": "light"
     },
     "output_type": "display_data"
    }
   ],
   "source": [
    "plot_confusion_matrix(\n",
    "    xgb_classifier,\n",
    "    X_test, y_test,\n",
    "    normalize=\"true\"\n",
    ");"
   ]
  },
  {
   "cell_type": "code",
   "execution_count": 15,
   "id": "3b8fe454",
   "metadata": {},
   "outputs": [],
   "source": [
    "def get_roc_auc_score(classifier, X_test, y_test):\n",
    "    y_pred = classifier.predict_proba(X_test)[:, 1]\n",
    "    return roc_auc_score(y_test, y_pred)"
   ]
  },
  {
   "cell_type": "code",
   "execution_count": 16,
   "id": "9a5d52d8",
   "metadata": {},
   "outputs": [
    {
     "name": "stdout",
     "output_type": "stream",
     "text": [
      "ROC-AUC of base model: 0.8867\n"
     ]
    }
   ],
   "source": [
    "base_model_roc_auc = get_roc_auc_score(xgb_classifier, X_test, y_test)\n",
    "\n",
    "print(f'ROC-AUC of base model: {base_model_roc_auc:.4f}')"
   ]
  },
  {
   "cell_type": "markdown",
   "id": "2dbbf3aa",
   "metadata": {},
   "source": [
    "### Homework Questions 2\n",
    "\n",
    "1. What does a confusion matrix tell us?\n",
    "2. What would a perfect confusion matrix look like?\n",
    "3. What is concerning about the above confusion matrix?\n",
    " \n",
    "\n",
    "## The SMOTE Algorithm\n"
   ]
  },
  {
   "cell_type": "code",
   "execution_count": 17,
   "id": "9b04a4ed",
   "metadata": {},
   "outputs": [
    {
     "name": "stdout",
     "output_type": "stream",
     "text": [
      "[0]\tvalidation_0-auc:0.85909\n",
      "[1]\tvalidation_0-auc:0.87270\n",
      "[2]\tvalidation_0-auc:0.88999\n",
      "[3]\tvalidation_0-auc:0.89735\n",
      "[4]\tvalidation_0-auc:0.89956\n",
      "[5]\tvalidation_0-auc:0.91170\n",
      "[6]\tvalidation_0-auc:0.90140\n",
      "[7]\tvalidation_0-auc:0.90250\n",
      "[8]\tvalidation_0-auc:0.89919\n",
      "[9]\tvalidation_0-auc:0.89330\n",
      "[10]\tvalidation_0-auc:0.89257\n",
      "[11]\tvalidation_0-auc:0.89919\n",
      "[12]\tvalidation_0-auc:0.89404\n",
      "[13]\tvalidation_0-auc:0.89404\n",
      "[14]\tvalidation_0-auc:0.88962\n",
      "[15]\tvalidation_0-auc:0.89551\n",
      "[16]\tvalidation_0-auc:0.89257\n",
      "[17]\tvalidation_0-auc:0.90140\n",
      "[18]\tvalidation_0-auc:0.90066\n",
      "[19]\tvalidation_0-auc:0.89551\n",
      "[20]\tvalidation_0-auc:0.88962\n",
      "[21]\tvalidation_0-auc:0.89036\n",
      "[22]\tvalidation_0-auc:0.88595\n",
      "[23]\tvalidation_0-auc:0.88447\n",
      "[24]\tvalidation_0-auc:0.88521\n"
     ]
    },
    {
     "data": {
      "text/plain": [
       "XGBClassifier(base_score=0.5, booster='gbtree', colsample_bylevel=1,\n",
       "              colsample_bynode=1, colsample_bytree=1, gamma=0, gpu_id=-1,\n",
       "              importance_type='gain', interaction_constraints='',\n",
       "              learning_rate=0.300000012, max_delta_step=0, max_depth=6,\n",
       "              min_child_weight=1, missing=nan, monotone_constraints='()',\n",
       "              n_estimators=73, n_jobs=4, num_parallel_tree=1, random_state=489,\n",
       "              reg_alpha=0, reg_lambda=1, scale_pos_weight=1, seed=489,\n",
       "              subsample=1, tree_method='exact', validate_parameters=1,\n",
       "              verbosity=None)"
      ]
     },
     "execution_count": 17,
     "metadata": {},
     "output_type": "execute_result"
    }
   ],
   "source": [
    "from imblearn.over_sampling import SMOTE\n",
    "X_resampled, y_resampled = SMOTE().fit_resample(X_train, y_train)\n",
    "\n",
    "xgb_classifier.fit(X_resampled, y_resampled, verbose=True, \n",
    "                   early_stopping_rounds=20,\n",
    "                   eval_metric=\"auc\", eval_set=[(X_test, y_test)])"
   ]
  },
  {
   "cell_type": "code",
   "execution_count": 18,
   "id": "2f63e82f",
   "metadata": {},
   "outputs": [
    {
     "data": {
      "text/plain": [
       "<sklearn.metrics._plot.confusion_matrix.ConfusionMatrixDisplay at 0x198f26ddfd0>"
      ]
     },
     "execution_count": 18,
     "metadata": {},
     "output_type": "execute_result"
    },
    {
     "data": {
      "image/png": "[encoded data removed]",
      "text/plain": [
       "<Figure size 432x288 with 2 Axes>"
      ]
     },
     "metadata": {
      "needs_background": "light"
     },
     "output_type": "display_data"
    }
   ],
   "source": [
    "xgb_classifier.set_params(**{'n_estimators': xgb_classifier.best_ntree_limit})\n",
    "\n",
    "plot_confusion_matrix(\n",
    "    xgb_classifier,\n",
    "    X_test, y_test,\n",
    "    normalize=\"true\"\n",
    ")"
   ]
  },
  {
   "cell_type": "code",
   "execution_count": 28,
   "id": "3f83faba",
   "metadata": {},
   "outputs": [
    {
     "name": "stdout",
     "output_type": "stream",
     "text": [
      "ROC-AUC of SMOTE model: 0.9117\n"
     ]
    }
   ],
   "source": [
    "smote_roc_auc = get_roc_auc_score(xgb_classifier, X_test, y_test)\n",
    "\n",
    "print(f'ROC-AUC of SMOTE model: {smote_roc_auc:.4f}')"
   ]
  },
  {
   "cell_type": "markdown",
   "id": "a7d07fe1",
   "metadata": {},
   "source": [
    "\n",
    "\n",
    "### Homework Questions 3\n",
    "\n",
    "1. What are some cases where undersampling is preferable to oversampling, and vice versa? \n",
    "2. Implement an Undersampling technique from the [`imbalanced-learn` library](https://imbalanced-learn.org/stable/user_guide.html#user-guide) and compare the results with those obtained from the SMOTE algorithm. \n",
    "\n",
    "## Imputation\n"
   ]
  },
  {
   "cell_type": "code",
   "execution_count": 20,
   "id": "0e5e4455",
   "metadata": {},
   "outputs": [],
   "source": [
    "X_imp = hab_all.drop('HAB_next_week', axis=1)\n",
    "y_imp = hab_all['HAB_next_week']\n",
    "X_imp_train, X_imp_test, y_imp_train, y_imp_test = train_test_split(\n",
    "    X_imp, y_imp, test_size=0.20, random_state=489,\n",
    "    stratify=y_imp\n",
    ")"
   ]
  },
  {
   "cell_type": "code",
   "execution_count": 21,
   "id": "b7f6bc23",
   "metadata": {},
   "outputs": [],
   "source": [
    "from sklearn.impute import KNNImputer\n",
    "knn_imputer = KNNImputer(n_neighbors=5)"
   ]
  },
  {
   "cell_type": "code",
   "execution_count": 22,
   "id": "4cf8540c",
   "metadata": {},
   "outputs": [],
   "source": [
    "X_imp_train[:] = knn_imputer.fit_transform(X_imp_train)\n",
    "X_imp_test[:] = knn_imputer.transform(X_imp_test)"
   ]
  },
  {
   "cell_type": "code",
   "execution_count": 23,
   "id": "6aae65d9",
   "metadata": {},
   "outputs": [],
   "source": [
    "xgb_imp_classifier = xgb.XGBClassifier(objective=\"binary:logistic\", seed=489)"
   ]
  },
  {
   "cell_type": "code",
   "execution_count": 24,
   "id": "6e118868",
   "metadata": {},
   "outputs": [],
   "source": [
    "X_imp_resampled, y_imp_resampled = SMOTE().fit_resample(X_imp_train, y_imp_train)"
   ]
  },
  {
   "cell_type": "code",
   "execution_count": 25,
   "id": "d6ac131f",
   "metadata": {},
   "outputs": [
    {
     "name": "stdout",
     "output_type": "stream",
     "text": [
      "[0]\tvalidation_0-auc:0.90946\n",
      "[1]\tvalidation_0-auc:0.91941\n",
      "[2]\tvalidation_0-auc:0.91941\n",
      "[3]\tvalidation_0-auc:0.92010\n",
      "[4]\tvalidation_0-auc:0.92284\n",
      "[5]\tvalidation_0-auc:0.91495\n",
      "[6]\tvalidation_0-auc:0.91667\n",
      "[7]\tvalidation_0-auc:0.91187\n",
      "[8]\tvalidation_0-auc:0.91187\n",
      "[9]\tvalidation_0-auc:0.90604\n",
      "[10]\tvalidation_0-auc:0.90398\n",
      "[11]\tvalidation_0-auc:0.91495\n",
      "[12]\tvalidation_0-auc:0.91427\n",
      "[13]\tvalidation_0-auc:0.91221\n",
      "[14]\tvalidation_0-auc:0.90741\n",
      "[15]\tvalidation_0-auc:0.90329\n",
      "[16]\tvalidation_0-auc:0.90535\n",
      "[17]\tvalidation_0-auc:0.90466\n",
      "[18]\tvalidation_0-auc:0.90466\n",
      "[19]\tvalidation_0-auc:0.90329\n",
      "[20]\tvalidation_0-auc:0.90604\n",
      "[21]\tvalidation_0-auc:0.90466\n",
      "[22]\tvalidation_0-auc:0.90329\n",
      "[23]\tvalidation_0-auc:0.90741\n",
      "[24]\tvalidation_0-auc:0.90672\n"
     ]
    },
    {
     "data": {
      "text/plain": [
       "XGBClassifier(base_score=0.5, booster='gbtree', colsample_bylevel=1,\n",
       "              colsample_bynode=1, colsample_bytree=1, gamma=0, gpu_id=-1,\n",
       "              importance_type='gain', interaction_constraints='',\n",
       "              learning_rate=0.300000012, max_delta_step=0, max_depth=6,\n",
       "              min_child_weight=1, missing=nan, monotone_constraints='()',\n",
       "              n_estimators=100, n_jobs=4, num_parallel_tree=1, random_state=489,\n",
       "              reg_alpha=0, reg_lambda=1, scale_pos_weight=1, seed=489,\n",
       "              subsample=1, tree_method='exact', validate_parameters=1,\n",
       "              verbosity=None)"
      ]
     },
     "execution_count": 25,
     "metadata": {},
     "output_type": "execute_result"
    }
   ],
   "source": [
    "xgb_imp_classifier.fit(X_imp_resampled, y_imp_resampled, verbose=True, \n",
    "                  eval_metric=\"auc\", early_stopping_rounds=20,\n",
    "                       eval_set=[(X_imp_test, y_imp_test)])"
   ]
  },
  {
   "cell_type": "code",
   "execution_count": 26,
   "id": "635b05d1",
   "metadata": {},
   "outputs": [
    {
     "data": {
      "text/plain": [
       "<sklearn.metrics._plot.confusion_matrix.ConfusionMatrixDisplay at 0x198f26b2580>"
      ]
     },
     "execution_count": 26,
     "metadata": {},
     "output_type": "execute_result"
    },
    {
     "data": {
      "image/png": "[encoded data removed]",
      "text/plain": [
       "<Figure size 432x288 with 2 Axes>"
      ]
     },
     "metadata": {
      "needs_background": "light"
     },
     "output_type": "display_data"
    }
   ],
   "source": [
    "xgb_imp_classifier.set_params(**{'n_estimators': xgb_imp_classifier.best_ntree_limit})\n",
    "\n",
    "plot_confusion_matrix(\n",
    "    xgb_imp_classifier,\n",
    "    X_imp_test, y_imp_test,\n",
    "    normalize=\"true\"\n",
    ")"
   ]
  },
  {
   "cell_type": "code",
   "execution_count": 27,
   "id": "7915d992",
   "metadata": {},
   "outputs": [
    {
     "data": {
      "text/plain": [
       "0.9228395061728395"
      ]
     },
     "execution_count": 27,
     "metadata": {},
     "output_type": "execute_result"
    }
   ],
   "source": [
    "y_imp_pred = xgb_imp_classifier.predict_proba(X_imp_test)[:, 1]\n",
    "roc_auc_score(y_imp_test, y_imp_pred)"
   ]
  },
  {
   "cell_type": "markdown",
   "id": "ab752811",
   "metadata": {},
   "source": [
    "\n",
    "\n",
    "### Homework Questions 4\n",
    "\n",
    "1. Implement another imputer from `sklearn.impute`. See the [sklearn docs](https://scikit-learn.org/stable/modules/impute.html) to learn more about imputation and to see other imputers.\n",
    "2. Notice that we called `knn_impute.fit_transform` on the training set, but only called `.transform` on the testing set. Why is this important? \n",
    "    * Hint: Look up data leakage\n",
    "3. Notice that while the ROC-AUC was bigger in the last version of our model, the [specificity (or true negative rate)](https://en.wikipedia.org/wiki/Sensitivity_and_specificity#Specificity) was lower. Between these two models, which one would you pick? Why?\n",
    "4. Repeat this workflow on the abridged credit card fraud dataset located `../data/creditcard.csv`. This modified dataset has missing values and a class imbalance on the order of what we saw with the HAB dataset."
   ]
  }
 ],
 "metadata": {
  "kernelspec": {
   "display_name": "Python 3",
   "language": "python",
   "name": "python3"
  },
  "language_info": {
   "codemirror_mode": {
    "name": "ipython",
    "version": 3
   },
   "file_extension": ".py",
   "mimetype": "text/x-python",
   "name": "python",
   "nbconvert_exporter": "python",
   "pygments_lexer": "ipython3",
   "version": "3.9.5"
  }
 },
 "nbformat": 4,
 "nbformat_minor": 5
}
