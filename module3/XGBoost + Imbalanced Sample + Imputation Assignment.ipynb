{
 "cells": [
  {
   "cell_type": "markdown",
   "id": "270b7fe7",
   "metadata": {},
   "source": [
    "# Imbalanced Classes, XGBoost, and Imputation\n",
    "\n",
    "In this assignment, we will learn about:\n",
    "\n",
    "* XGBoosted trees, a powerful extension of the random forest model\n",
    "* Resampling strategies for imbalanced data\n",
    "* Imputation\n",
    "\n"
   ]
  },
  {
   "cell_type": "code",
   "execution_count": 1,
   "id": "8b10a128",
   "metadata": {},
   "outputs": [],
   "source": [
    "import pandas as pd\n",
    "import numpy as np\n"
   ]
  },
  {
   "cell_type": "markdown",
   "id": "78d5da41",
   "metadata": {},
   "source": [
    "# Class Imbalances\n",
    "\n",
    "Ideally, the target classes are evenly distributed so that our model has adequate data to learn the relationship between the input variables and the target classes. For example, if you were trying to predict balh blah blah, out of 100 samples, the ideal case would be for 50 of the samples to correspond to a boy and 50 to a girl. \n",
    "\n",
    "However, many real-world datasets are not like this. For example, credit card fraud detection - there are billions of credit card transactions conducted each day, of which a minute percentage are fraudulent. Thus, determining whether or not a transacation is fraudulent is an example of an imbalanced class problem, as shown in this [data set](https://www.kaggle.com/mlg-ulb/creditcardfraud): of the ~285,000 samples in this data set, only 1000 of them are labeled fraudulent. Another example of this is the [Porta Seguro Safe Driving dataset](https://www.kaggle.com/c/porto-seguro-safe-driver-prediction/data?select=train.csv), which contains data about different drivers and whether or not they've filed an insurance claim. In this dataset, of the ~595,000 samples, only ~22,000 reported claims.\n",
    "\n",
    "In a previous assignment, we talked about how to identify an imbalanced class problem and why ROC-AUC is a better metric for measuring performance in these cases. In some cases, though, you might not be able to get adequate results without addressing the class imbalance. Today, we will learn a couple different strategies for doing so.\n",
    "\n",
    "Let's go ahead and read in some data:"
   ]
  },
  {
   "cell_type": "code",
   "execution_count": 2,
   "id": "5eda57e5",
   "metadata": {},
   "outputs": [
    {
     "data": {
      "text/html": [
       "<div>\n",
       "<style scoped>\n",
       "    .dataframe tbody tr th:only-of-type {\n",
       "        vertical-align: middle;\n",
       "    }\n",
       "\n",
       "    .dataframe tbody tr th {\n",
       "        vertical-align: top;\n",
       "    }\n",
       "\n",
       "    .dataframe thead th {\n",
       "        text-align: right;\n",
       "    }\n",
       "</style>\n",
       "<table border=\"1\" class=\"dataframe\">\n",
       "  <thead>\n",
       "    <tr style=\"text-align: right;\">\n",
       "      <th></th>\n",
       "      <th>microcystin</th>\n",
       "      <th>x16s</th>\n",
       "      <th>mcy_a_m</th>\n",
       "      <th>doc_ppm</th>\n",
       "      <th>ortho_p_mg_p_l</th>\n",
       "      <th>tkn_mg_n_l</th>\n",
       "      <th>cl_mg_cl_l</th>\n",
       "      <th>p_h</th>\n",
       "      <th>tp</th>\n",
       "      <th>mcya_16s</th>\n",
       "      <th>HAB_next_week</th>\n",
       "    </tr>\n",
       "  </thead>\n",
       "  <tbody>\n",
       "    <tr>\n",
       "      <th>0</th>\n",
       "      <td>0.000</td>\n",
       "      <td>1.946514e+07</td>\n",
       "      <td>0.0</td>\n",
       "      <td>3.899</td>\n",
       "      <td>0.0650</td>\n",
       "      <td>0.180</td>\n",
       "      <td>16.994</td>\n",
       "      <td>7.70</td>\n",
       "      <td>0.5380</td>\n",
       "      <td>0.0</td>\n",
       "      <td>0</td>\n",
       "    </tr>\n",
       "    <tr>\n",
       "      <th>1</th>\n",
       "      <td>0.000</td>\n",
       "      <td>4.278451e+06</td>\n",
       "      <td>0.0</td>\n",
       "      <td>4.689</td>\n",
       "      <td>0.0340</td>\n",
       "      <td>0.282</td>\n",
       "      <td>16.738</td>\n",
       "      <td>7.81</td>\n",
       "      <td>0.0570</td>\n",
       "      <td>0.0</td>\n",
       "      <td>0</td>\n",
       "    </tr>\n",
       "    <tr>\n",
       "      <th>2</th>\n",
       "      <td>0.230</td>\n",
       "      <td>6.102315e+05</td>\n",
       "      <td>0.0</td>\n",
       "      <td>3.886</td>\n",
       "      <td>0.0401</td>\n",
       "      <td>0.346</td>\n",
       "      <td>16.352</td>\n",
       "      <td>8.13</td>\n",
       "      <td>0.0961</td>\n",
       "      <td>0.0</td>\n",
       "      <td>0</td>\n",
       "    </tr>\n",
       "    <tr>\n",
       "      <th>3</th>\n",
       "      <td>0.743</td>\n",
       "      <td>5.582701e+06</td>\n",
       "      <td>0.0</td>\n",
       "      <td>3.824</td>\n",
       "      <td>0.0230</td>\n",
       "      <td>0.365</td>\n",
       "      <td>14.867</td>\n",
       "      <td>8.19</td>\n",
       "      <td>0.0180</td>\n",
       "      <td>0.0</td>\n",
       "      <td>0</td>\n",
       "    </tr>\n",
       "    <tr>\n",
       "      <th>4</th>\n",
       "      <td>0.038</td>\n",
       "      <td>1.010385e+07</td>\n",
       "      <td>0.0</td>\n",
       "      <td>2.248</td>\n",
       "      <td>0.0810</td>\n",
       "      <td>0.858</td>\n",
       "      <td>15.754</td>\n",
       "      <td>8.06</td>\n",
       "      <td>0.3680</td>\n",
       "      <td>0.0</td>\n",
       "      <td>0</td>\n",
       "    </tr>\n",
       "  </tbody>\n",
       "</table>\n",
       "</div>"
      ],
      "text/plain": [
       "   microcystin          x16s  mcy_a_m  doc_ppm  ortho_p_mg_p_l  tkn_mg_n_l  \\\n",
       "0        0.000  1.946514e+07      0.0    3.899          0.0650       0.180   \n",
       "1        0.000  4.278451e+06      0.0    4.689          0.0340       0.282   \n",
       "2        0.230  6.102315e+05      0.0    3.886          0.0401       0.346   \n",
       "3        0.743  5.582701e+06      0.0    3.824          0.0230       0.365   \n",
       "4        0.038  1.010385e+07      0.0    2.248          0.0810       0.858   \n",
       "\n",
       "   cl_mg_cl_l   p_h      tp  mcya_16s  HAB_next_week  \n",
       "0      16.994  7.70  0.5380       0.0              0  \n",
       "1      16.738  7.81  0.0570       0.0              0  \n",
       "2      16.352  8.13  0.0961       0.0              0  \n",
       "3      14.867  8.19  0.0180       0.0              0  \n",
       "4      15.754  8.06  0.3680       0.0              0  "
      ]
     },
     "execution_count": 2,
     "metadata": {},
     "output_type": "execute_result"
    }
   ],
   "source": [
    "hab_all = pd.read_csv(\"porto_seguro_data/DNR_complete.csv\")\n",
    "hab_all.head()"
   ]
  },
  {
   "cell_type": "code",
   "execution_count": 3,
   "id": "0e07b83d",
   "metadata": {},
   "outputs": [
    {
     "data": {
      "text/plain": [
       "(854, 11)"
      ]
     },
     "execution_count": 3,
     "metadata": {},
     "output_type": "execute_result"
    }
   ],
   "source": [
    "hab_all.shape"
   ]
  },
  {
   "cell_type": "markdown",
   "id": "dbcf0e66",
   "metadata": {},
   "source": [
    "The variables are:\n",
    "\n",
    "* microcystin\n",
    "* x16s\n",
    "* mcy_a_m\n",
    "* doc_ppm\n",
    "* ortho_p_mg_p_l\n",
    "* tkn_mg_n_l\n",
    "* cl_mg_cl_l\n",
    "* p_h\n",
    "* tp\n",
    "* mcya_16s\n",
    "* HAB_next_week\n",
    "\n",
    "We already know basic EDA stuff from many previous examples, so this assignment will forgo most of repeating EDA and focus on class imbalances. \n",
    "\n",
    "Let's see how the classes break down:"
   ]
  },
  {
   "cell_type": "code",
   "execution_count": 4,
   "id": "4882a659",
   "metadata": {},
   "outputs": [
    {
     "data": {
      "image/png": "[encoded data removed]",
      "text/plain": [
       "<Figure size 432x288 with 1 Axes>"
      ]
     },
     "metadata": {
      "needs_background": "light"
     },
     "output_type": "display_data"
    }
   ],
   "source": [
    "class_count = hab_all['HAB_next_week'].value_counts().rename({0: \"No HAB\", 1: \"HAB\"})\n",
    "\n",
    "hab_class_ratio = class_count[0] / class_count[1]\n",
    "\n",
    "class_count.plot(\n",
    "    kind='bar', \n",
    "    title=f'Class count\\nRatio: {hab_class_ratio:.2f}:1',\n",
    "    rot=0\n",
    ");\n",
    "    "
   ]
  },
  {
   "cell_type": "markdown",
   "id": "23497d45",
   "metadata": {},
   "source": [
    "So we see that there is a heavy class imbalance in the samples - there are no harmful algal blooms in over 90% of the samples, which is definitely something we need to account for in our analysis. \n",
    "\n",
    "Before we move on to splitting the data and training our models, let's also look at the missing values:"
   ]
  },
  {
   "cell_type": "code",
   "execution_count": 5,
   "id": "e36a1a44",
   "metadata": {},
   "outputs": [
    {
     "data": {
      "text/plain": [
       "microcystin        0\n",
       "x16s               0\n",
       "mcy_a_m            0\n",
       "doc_ppm            0\n",
       "ortho_p_mg_p_l     0\n",
       "tkn_mg_n_l         0\n",
       "cl_mg_cl_l         0\n",
       "p_h               58\n",
       "tp                 0\n",
       "mcya_16s           0\n",
       "HAB_next_week      0\n",
       "dtype: int64"
      ]
     },
     "execution_count": 5,
     "metadata": {},
     "output_type": "execute_result"
    }
   ],
   "source": [
    "hab_all.isnull().sum(axis=0)"
   ]
  },
  {
   "cell_type": "markdown",
   "id": "48f676f0",
   "metadata": {},
   "source": [
    "I've already did a lot of the cleaning for this dataset and took care of most of the missing values. However, there are still 58 `p_h` measurements missing. Since we're concerned with class imbalances, we should take a look to see how these missing values are spread across both classes:"
   ]
  },
  {
   "cell_type": "code",
   "execution_count": 6,
   "id": "5dd76e0a",
   "metadata": {},
   "outputs": [
    {
     "data": {
      "text/plain": [
       "0    57\n",
       "1     1\n",
       "Name: HAB_next_week, dtype: int64"
      ]
     },
     "execution_count": 6,
     "metadata": {},
     "output_type": "execute_result"
    }
   ],
   "source": [
    "hab_all[hab_all['p_h'].isnull()]['HAB_next_week'].value_counts()"
   ]
  },
  {
   "cell_type": "markdown",
   "id": "e11b73f7",
   "metadata": {},
   "source": [
    "The vast majority of the missing observations belong to the negative class at a ratio of 57:1. This is good news: the ratio of missing values is not worse than the observed ratio of missing values in the dataset at large. For comparison, it would be bad news if the ratio of missing negative class samples to positive class samples were smaller than the observed ratio - this would mean that we would have to throw away a lot more positive class samples, exacerbating the class imbalance we saw in the whole dataset.\n",
    "\n",
    "For now, we're just going to drop all of the missing values. After we make our first set of predictions, we'll come back and learn some imputation strategies."
   ]
  },
  {
   "cell_type": "code",
   "execution_count": 7,
   "id": "f3b641e4",
   "metadata": {},
   "outputs": [],
   "source": [
    "df = hab_all.dropna()"
   ]
  },
  {
   "cell_type": "code",
   "execution_count": 8,
   "id": "d03f020a",
   "metadata": {},
   "outputs": [
    {
     "data": {
      "text/plain": [
       "(796, 11)"
      ]
     },
     "execution_count": 8,
     "metadata": {},
     "output_type": "execute_result"
    }
   ],
   "source": [
    "df.shape"
   ]
  },
  {
   "cell_type": "markdown",
   "id": "c039c66f",
   "metadata": {},
   "source": [
    "Let's make our testing and training sets, stratifying on our target variable:"
   ]
  },
  {
   "cell_type": "code",
   "execution_count": 9,
   "id": "7f59be1a",
   "metadata": {},
   "outputs": [],
   "source": [
    "from sklearn.model_selection import train_test_split\n",
    "\n",
    "X = df.drop('HAB_next_week', axis=1)\n",
    "y = df['HAB_next_week']\n",
    "X_train, X_test, y_train, y_test = train_test_split(\n",
    "    X, y, test_size=0.20, random_state=489,\n",
    "    stratify=y\n",
    ")"
   ]
  },
  {
   "cell_type": "markdown",
   "id": "a5196f72",
   "metadata": {},
   "source": [
    "And let's verify that the stratification worked:"
   ]
  },
  {
   "cell_type": "code",
   "execution_count": 10,
   "id": "11811a17",
   "metadata": {},
   "outputs": [],
   "source": [
    "def get_class_props(target_series):\n",
    "    class_count = target_series.value_counts().rename({0: \"No HAB\", 1: \"HAB\"})\n",
    "    ratio = round(class_count[0] / class_count[1], 2)\n",
    "    return '\\t'.join([str(x) for x in [class_count[0], class_count[1], ratio]])"
   ]
  },
  {
   "cell_type": "code",
   "execution_count": 11,
   "id": "153de2e7",
   "metadata": {},
   "outputs": [
    {
     "name": "stdout",
     "output_type": "stream",
     "text": [
      "Dataset\t\tNo HAB\tHAB\t% HAB:\n",
      "Entire dataset:\t752\t44\t17.09%\n",
      "Training:\t601\t35\t17.17%\n",
      "Testing:\t151\t9\t16.78%\n"
     ]
    }
   ],
   "source": [
    "print('Dataset\\t\\tNo HAB\\tHAB\\t% HAB:')\n",
    "print(f'Entire dataset:\\t{get_class_props(y)}%')\n",
    "print(f'Training:\\t{get_class_props(y_train)}%')\n",
    "print(f'Testing:\\t{get_class_props(y_test)}%')"
   ]
  },
  {
   "cell_type": "markdown",
   "id": "0e44a381",
   "metadata": {},
   "source": [
    "We see that the % of HABs observed in each of the datasets is roughly the same. Since there are so few HAB observations, this is the best split we're going to get of each of the classes.\n",
    "\n",
    "Okay, now that we have our data, let's go ahead and make our model.\n",
    "\n",
    "### Review questions\n",
    "\n",
    "1. Why are class imbalances bad?\n",
    "2. Why is accuracy a poor metric for prediction cases where there is a heavy class imbalance?\n",
    "3. Stratifying on the target class is always important. Why is it especially important for cases with a heavy class imbalance?"
   ]
  },
  {
   "cell_type": "markdown",
   "id": "e0f83662",
   "metadata": {},
   "source": [
    "# XGBoost\n",
    "\n",
    "IT's the real deal!\n",
    "\n",
    "Think about is as: decision trees < ... < random forests < ... < ... < XGBoosted Trees.\n",
    "\n",
    "Recall that a decision tree is a cute little tree\n",
    "\n",
    "Random forest is an extension of that that takes advantage of ensemble learning, bootstrap aggregation, and a large body of weak learners to arrive at strong results.\n",
    "\n",
    "Much like random forest is an improvement on decision trees, XGBoosted trees are an improvement on random forests.\n",
    "\n",
    "XGBoost is short for eXtreme Gradient Boosted trees and are the ways that this is an improvement over Random Forest models.\n",
    "\n",
    "* Model improvements: Uses gradient descent boosting to optimize the learning rate of the trees and natively implements L1 and L2 regularization (think LASSO and ridge regression) into its feature weighting\n",
    "* Algorithmic improvements: XGBoost handles sparse matrices really well (which is a problem in high dimensional data), natively handles missing data, and support continued training so that you can improve an existing XGBoosted tree when you get new data\n",
    "* Computational improvements: XGBoost is highly parallelized and takes advantage of system archictecture and computational loads in clever ways. This means that it is __fast__."
   ]
  },
  {
   "cell_type": "code",
   "execution_count": 12,
   "id": "a0fed2f9",
   "metadata": {},
   "outputs": [],
   "source": [
    "import xgboost as xgb\n",
    "from sklearn.model_selection import train_test_split, GridSearchCV\n",
    "from sklearn.metrics import balanced_accuracy_score, roc_auc_score, make_scorer, confusion_matrix, plot_confusion_matrix"
   ]
  },
  {
   "cell_type": "code",
   "execution_count": 13,
   "id": "6fd8c788",
   "metadata": {},
   "outputs": [],
   "source": [
    "xgb_classifier = xgb.XGBClassifier(objective=\"binary:logistic\", seed=489)"
   ]
  },
  {
   "cell_type": "code",
   "execution_count": 14,
   "id": "29e4b9d5",
   "metadata": {},
   "outputs": [
    {
     "name": "stdout",
     "output_type": "stream",
     "text": [
      "[0]\tvalidation_0-aucpr:0.29141\n",
      "[1]\tvalidation_0-aucpr:0.32986\n",
      "[2]\tvalidation_0-aucpr:0.32557\n",
      "[3]\tvalidation_0-aucpr:0.29107\n",
      "[4]\tvalidation_0-aucpr:0.30392\n",
      "[5]\tvalidation_0-aucpr:0.31148\n",
      "[6]\tvalidation_0-aucpr:0.29961\n",
      "[7]\tvalidation_0-aucpr:0.31052\n",
      "[8]\tvalidation_0-aucpr:0.31267\n",
      "[9]\tvalidation_0-aucpr:0.33561\n",
      "[10]\tvalidation_0-aucpr:0.33431\n",
      "[11]\tvalidation_0-aucpr:0.34592\n",
      "[12]\tvalidation_0-aucpr:0.33608\n",
      "[13]\tvalidation_0-aucpr:0.34157\n",
      "[14]\tvalidation_0-aucpr:0.32524\n",
      "[15]\tvalidation_0-aucpr:0.31988\n",
      "[16]\tvalidation_0-aucpr:0.31084\n",
      "[17]\tvalidation_0-aucpr:0.32782\n",
      "[18]\tvalidation_0-aucpr:0.32294\n",
      "[19]\tvalidation_0-aucpr:0.31414\n",
      "[20]\tvalidation_0-aucpr:0.29904\n"
     ]
    },
    {
     "name": "stderr",
     "output_type": "stream",
     "text": [
      "c:\\users\\pvill\\appdata\\local\\programs\\python\\python39\\lib\\site-packages\\xgboost\\sklearn.py:1146: UserWarning: The use of label encoder in XGBClassifier is deprecated and will be removed in a future release. To remove this warning, do the following: 1) Pass option use_label_encoder=False when constructing XGBClassifier object; and 2) Encode your labels (y) as integers starting with 0, i.e. 0, 1, 2, ..., [num_class - 1].\n",
      "  warnings.warn(label_encoder_deprecation_msg, UserWarning)\n"
     ]
    },
    {
     "data": {
      "text/plain": [
       "XGBClassifier(base_score=0.5, booster='gbtree', colsample_bylevel=1,\n",
       "              colsample_bynode=1, colsample_bytree=1, gamma=0, gpu_id=-1,\n",
       "              importance_type='gain', interaction_constraints='',\n",
       "              learning_rate=0.300000012, max_delta_step=0, max_depth=6,\n",
       "              min_child_weight=1, missing=nan, monotone_constraints='()',\n",
       "              n_estimators=100, n_jobs=4, num_parallel_tree=1, random_state=489,\n",
       "              reg_alpha=0, reg_lambda=1, scale_pos_weight=1, seed=489,\n",
       "              subsample=1, tree_method='exact', validate_parameters=1,\n",
       "              verbosity=None)"
      ]
     },
     "execution_count": 14,
     "metadata": {},
     "output_type": "execute_result"
    }
   ],
   "source": [
    "xgb_classifier.fit(X_train, y_train, verbose=True, early_stopping_rounds=10,\n",
    "                  eval_metric=\"aucpr\", eval_set=[(X_test, y_test)])"
   ]
  },
  {
   "cell_type": "code",
   "execution_count": 15,
   "id": "63dad341",
   "metadata": {},
   "outputs": [
    {
     "data": {
      "text/plain": [
       "<sklearn.metrics._plot.confusion_matrix.ConfusionMatrixDisplay at 0x20e51ff0ac0>"
      ]
     },
     "execution_count": 15,
     "metadata": {},
     "output_type": "execute_result"
    },
    {
     "data": {
      "image/png": "[encoded data removed]",
      "text/plain": [
       "<Figure size 432x288 with 2 Axes>"
      ]
     },
     "metadata": {
      "needs_background": "light"
     },
     "output_type": "display_data"
    }
   ],
   "source": [
    "plot_confusion_matrix(\n",
    "    xgb_classifier,\n",
    "    X_test, y_test,\n",
    "    normalize=\"true\"\n",
    ")"
   ]
  },
  {
   "cell_type": "markdown",
   "id": "2dbbf3aa",
   "metadata": {},
   "source": [
    "This sucks! Let's improve the results by addressing the class imbalance\n",
    "\n",
    "## The SMOTE Algorithm\n",
    "\n",
    "Techniques to handle class imbalances are an active area of study. Two broad classes of approaches to correcting class imbalances are _oversampling_ and _undersampling_.\n",
    "\n",
    "* __Oversampling__ seeks to correct a class imbalance by repeatedly sampling the minority class, either by taking repeated samples or by simulating minority class samples.\n",
    "* __Undersampling__ approaches the problem by using fewer samples from the majority class. For instance, if there were 1000 samples of Class A and 200 of Class B, then an undersampling-based approach could be to randomly choose only 200 samples from Class A.\n",
    "\n",
    "The one we're going to use today is the SMOTE algorithm, which stands for _synthetic minority over-sampling technique_. This is an oversampling technique based on simulating the minority classes. The steps of the SMOTE algorithm are:\n",
    "\n",
    "* Randomly pick a member _x_ of the minority class\n",
    "* Find its _k_ nearest neighbors\n",
    "* Of those _k_ neighbors, choose one at random (let's call it _x'_)\n",
    "* Create a new point ont the line between _x_ and _x'_\n",
    "* Repeat until the classes are even"
   ]
  },
  {
   "cell_type": "code",
   "execution_count": 16,
   "id": "9b04a4ed",
   "metadata": {},
   "outputs": [],
   "source": [
    "from imblearn.over_sampling import SMOTE\n",
    "X_resampled, y_resampled = SMOTE().fit_resample(X_train, y_train)\n",
    "\n",
    "xgb_classifier.fit(X_resampled, y_resampled, verbose=True, early_stopping_rounds=10,\n",
    "                  eval_metric=\"aucpr\", eval_set=[(X_test, y_test)])"
   ]
  },
  {
   "cell_type": "code",
   "execution_count": 18,
   "id": "2f63e82f",
   "metadata": {},
   "outputs": [
    {
     "data": {
      "text/plain": [
       "<sklearn.metrics._plot.confusion_matrix.ConfusionMatrixDisplay at 0x20e522d9e80>"
      ]
     },
     "execution_count": 18,
     "metadata": {},
     "output_type": "execute_result"
    },
    {
     "data": {
      "image/png": "[encoded data removed]",
      "text/plain": [
       "<Figure size 432x288 with 2 Axes>"
      ]
     },
     "metadata": {
      "needs_background": "light"
     },
     "output_type": "display_data"
    }
   ],
   "source": [
    "plot_confusion_matrix(\n",
    "    xgb_classifier,\n",
    "    X_test, y_test,\n",
    "    normalize=\"true\"\n",
    ")"
   ]
  },
  {
   "cell_type": "markdown",
   "id": "a7d07fe1",
   "metadata": {},
   "source": [
    "Better!\n",
    "\n",
    "### Review Questions\n",
    "\n",
    "1. What are some cases where undersampling is preferable to oversampling, and vice versa? \n",
    "2. Implement an Undersampling technique from the `imbalanced-learn` library and compare the results with those obtained from the SMOTE algorithm.\n",
    "\n",
    "## Imputation\n",
    "\n",
    "Now that we've implemented an XGBoost model and have done some oversampling, let's return to the missing values we threw away earlier. Even though it's always a bummer to throw away data, this current situation isn't too bad because of the class imbalance as we discussed. \n",
    "\n",
    "Whatever let's learn how to impute stuff.\n",
    "\n",
    "We're going to impute missing values via k-nearest neighbors. For each missing value, we'll fill in the missing value with the mean of the k samples closest to that point. Let's see how it works.\n",
    "\n",
    "First, we need to go back to our original dataset, before we dropped the missing values, and work from there."
   ]
  },
  {
   "cell_type": "code",
   "execution_count": 41,
   "id": "0e5e4455",
   "metadata": {},
   "outputs": [],
   "source": [
    "X_imp = hab_all.drop('HAB_next_week', axis=1)\n",
    "y_imp = hab_all['HAB_next_week']\n",
    "X_imp_train, X_imp_test, y_imp_train, y_imp_test = train_test_split(\n",
    "    X_imp, y_imp, test_size=0.20, random_state=489,\n",
    "    stratify=y_imp\n",
    ")"
   ]
  },
  {
   "cell_type": "code",
   "execution_count": 42,
   "id": "b7f6bc23",
   "metadata": {},
   "outputs": [],
   "source": [
    "from sklearn.impute import KNNImputer\n",
    "knn_imputer = KNNImputer(n_neighbors=3)"
   ]
  },
  {
   "cell_type": "code",
   "execution_count": 43,
   "id": "4cf8540c",
   "metadata": {},
   "outputs": [
    {
     "name": "stderr",
     "output_type": "stream",
     "text": [
      "<ipython-input-43-33af917a6aae>:1: SettingWithCopyWarning: \n",
      "A value is trying to be set on a copy of a slice from a DataFrame.\n",
      "Try using .loc[row_indexer,col_indexer] = value instead\n",
      "\n",
      "See the caveats in the documentation: https://pandas.pydata.org/pandas-docs/stable/user_guide/indexing.html#returning-a-view-versus-a-copy\n",
      "  X_imp_train[:] = knn_imputer.fit_transform(X_imp_train)\n",
      "c:\\users\\pvill\\appdata\\local\\programs\\python\\python39\\lib\\site-packages\\pandas\\core\\indexing.py:1637: SettingWithCopyWarning: \n",
      "A value is trying to be set on a copy of a slice from a DataFrame\n",
      "\n",
      "See the caveats in the documentation: https://pandas.pydata.org/pandas-docs/stable/user_guide/indexing.html#returning-a-view-versus-a-copy\n",
      "  self._setitem_single_block(indexer, value, name)\n",
      "c:\\users\\pvill\\appdata\\local\\programs\\python\\python39\\lib\\site-packages\\pandas\\core\\indexing.py:692: SettingWithCopyWarning: \n",
      "A value is trying to be set on a copy of a slice from a DataFrame\n",
      "\n",
      "See the caveats in the documentation: https://pandas.pydata.org/pandas-docs/stable/user_guide/indexing.html#returning-a-view-versus-a-copy\n",
      "  iloc._setitem_with_indexer(indexer, value, self.name)\n",
      "<ipython-input-43-33af917a6aae>:2: SettingWithCopyWarning: \n",
      "A value is trying to be set on a copy of a slice from a DataFrame.\n",
      "Try using .loc[row_indexer,col_indexer] = value instead\n",
      "\n",
      "See the caveats in the documentation: https://pandas.pydata.org/pandas-docs/stable/user_guide/indexing.html#returning-a-view-versus-a-copy\n",
      "  X_imp_test[:] = knn_imputer.transform(X_imp_test)\n",
      "c:\\users\\pvill\\appdata\\local\\programs\\python\\python39\\lib\\site-packages\\pandas\\core\\indexing.py:1637: SettingWithCopyWarning: \n",
      "A value is trying to be set on a copy of a slice from a DataFrame\n",
      "\n",
      "See the caveats in the documentation: https://pandas.pydata.org/pandas-docs/stable/user_guide/indexing.html#returning-a-view-versus-a-copy\n",
      "  self._setitem_single_block(indexer, value, name)\n",
      "c:\\users\\pvill\\appdata\\local\\programs\\python\\python39\\lib\\site-packages\\pandas\\core\\indexing.py:692: SettingWithCopyWarning: \n",
      "A value is trying to be set on a copy of a slice from a DataFrame\n",
      "\n",
      "See the caveats in the documentation: https://pandas.pydata.org/pandas-docs/stable/user_guide/indexing.html#returning-a-view-versus-a-copy\n",
      "  iloc._setitem_with_indexer(indexer, value, self.name)\n"
     ]
    }
   ],
   "source": [
    "X_imp_train[:] = knn_imputer.fit_transform(X_imp_train)\n",
    "X_imp_test[:] = knn_imputer.transform(X_imp_test)"
   ]
  },
  {
   "cell_type": "code",
   "execution_count": 44,
   "id": "6aae65d9",
   "metadata": {},
   "outputs": [],
   "source": [
    "xgb_imp_classifier = xgb.XGBClassifier(objective=\"binary:logistic\", seed=489)"
   ]
  },
  {
   "cell_type": "code",
   "execution_count": 45,
   "id": "6e118868",
   "metadata": {},
   "outputs": [],
   "source": [
    "X_imp_resampled, y_imp_resampled = SMOTE().fit_resample(X_imp_train, y_imp_train)"
   ]
  },
  {
   "cell_type": "code",
   "execution_count": 46,
   "id": "d6ac131f",
   "metadata": {},
   "outputs": [
    {
     "name": "stdout",
     "output_type": "stream",
     "text": [
      "[0]\tvalidation_0-aucpr:0.19070\n",
      "[1]\tvalidation_0-aucpr:0.29165\n",
      "[2]\tvalidation_0-aucpr:0.26827\n",
      "[3]\tvalidation_0-aucpr:0.25266\n",
      "[4]\tvalidation_0-aucpr:0.26907\n",
      "[5]\tvalidation_0-aucpr:0.27536\n",
      "[6]\tvalidation_0-aucpr:0.28177\n",
      "[7]\tvalidation_0-aucpr:0.28712\n",
      "[8]\tvalidation_0-aucpr:0.28575\n",
      "[9]\tvalidation_0-aucpr:0.28361\n",
      "[10]\tvalidation_0-aucpr:0.30116\n",
      "[11]\tvalidation_0-aucpr:0.29477\n",
      "[12]\tvalidation_0-aucpr:0.27000\n",
      "[13]\tvalidation_0-aucpr:0.27681\n",
      "[14]\tvalidation_0-aucpr:0.27056\n",
      "[15]\tvalidation_0-aucpr:0.27722\n",
      "[16]\tvalidation_0-aucpr:0.27643\n",
      "[17]\tvalidation_0-aucpr:0.27415\n",
      "[18]\tvalidation_0-aucpr:0.26437\n",
      "[19]\tvalidation_0-aucpr:0.26539\n",
      "[20]\tvalidation_0-aucpr:0.25185\n"
     ]
    },
    {
     "name": "stderr",
     "output_type": "stream",
     "text": [
      "c:\\users\\pvill\\appdata\\local\\programs\\python\\python39\\lib\\site-packages\\xgboost\\sklearn.py:1146: UserWarning: The use of label encoder in XGBClassifier is deprecated and will be removed in a future release. To remove this warning, do the following: 1) Pass option use_label_encoder=False when constructing XGBClassifier object; and 2) Encode your labels (y) as integers starting with 0, i.e. 0, 1, 2, ..., [num_class - 1].\n",
      "  warnings.warn(label_encoder_deprecation_msg, UserWarning)\n"
     ]
    },
    {
     "data": {
      "text/plain": [
       "XGBClassifier(base_score=0.5, booster='gbtree', colsample_bylevel=1,\n",
       "              colsample_bynode=1, colsample_bytree=1, gamma=0, gpu_id=-1,\n",
       "              importance_type='gain', interaction_constraints='',\n",
       "              learning_rate=0.300000012, max_delta_step=0, max_depth=6,\n",
       "              min_child_weight=1, missing=nan, monotone_constraints='()',\n",
       "              n_estimators=100, n_jobs=4, num_parallel_tree=1, random_state=489,\n",
       "              reg_alpha=0, reg_lambda=1, scale_pos_weight=1, seed=489,\n",
       "              subsample=1, tree_method='exact', validate_parameters=1,\n",
       "              verbosity=None)"
      ]
     },
     "execution_count": 46,
     "metadata": {},
     "output_type": "execute_result"
    }
   ],
   "source": [
    "xgb_imp_classifier.fit(X_imp_resampled, y_imp_resampled, verbose=True, early_stopping_rounds=10,\n",
    "                  eval_metric=\"aucpr\", eval_set=[(X_imp_test, y_imp_test)])"
   ]
  },
  {
   "cell_type": "code",
   "execution_count": 47,
   "id": "635b05d1",
   "metadata": {},
   "outputs": [
    {
     "data": {
      "text/plain": [
       "<sklearn.metrics._plot.confusion_matrix.ConfusionMatrixDisplay at 0x20e53c299d0>"
      ]
     },
     "execution_count": 47,
     "metadata": {},
     "output_type": "execute_result"
    },
    {
     "data": {
      "image/png": "[encoded data removed]",
      "text/plain": [
       "<Figure size 432x288 with 2 Axes>"
      ]
     },
     "metadata": {
      "needs_background": "light"
     },
     "output_type": "display_data"
    }
   ],
   "source": [
    "plot_confusion_matrix(\n",
    "    xgb_imp_classifier,\n",
    "    X_imp_test, y_imp_test,\n",
    "    normalize=\"true\"\n",
    ")"
   ]
  },
  {
   "cell_type": "markdown",
   "id": "ab752811",
   "metadata": {},
   "source": [
    "The results are roughly the same as the SMOTE example.\n",
    "\n",
    "## Review Questions\n",
    "\n",
    "1. Implement another imputer from `sklearn.impute`\n",
    "2. Notice that we called `knn_impute.fit_transform` on the training set, but only called `.transform` on the testing set. Why is this important?"
   ]
  }
 ],
 "metadata": {
  "kernelspec": {
   "display_name": "Python 3",
   "language": "python",
   "name": "python3"
  },
  "language_info": {
   "codemirror_mode": {
    "name": "ipython",
    "version": 3
   },
   "file_extension": ".py",
   "mimetype": "text/x-python",
   "name": "python",
   "nbconvert_exporter": "python",
   "pygments_lexer": "ipython3",
   "version": "3.9.5"
  }
 },
 "nbformat": 4,
 "nbformat_minor": 5
}
