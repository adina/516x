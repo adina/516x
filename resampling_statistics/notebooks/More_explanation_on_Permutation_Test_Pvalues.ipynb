{
 "cells": [
  {
   "cell_type": "markdown",
   "metadata": {},
   "source": [
    "# More Explanation about Permutation test p-values"
   ]
  },
  {
   "cell_type": "markdown",
   "metadata": {},
   "source": [
    "In the lecture notebook, we calculated p-value for Oklahoma's earthquake magnitudes before and after year 2010 with the code `np.sum(abs(perm_mag_ts) > abs(diff_obs)) / 10000`; but in the homework notebook **Question 2 (3)**, you are guided to fill in the code as such `p = np.sum(____ > observed_diff) / ____` (without `abs()` function). \n",
    "\n",
    "You might be confused: when should we use the absolute value (`abs()`) function and when should we just get the percentage of permutated test statistics greater than or less than the observed test statistic without the absolute function `abs()`?"
   ]
  },
  {
   "cell_type": "markdown",
   "metadata": {},
   "source": [
    "Here I wrote up this notebook to answer this question, and hopefully give you a better understanding about pvalues of permutation test."
   ]
  },
  {
   "cell_type": "markdown",
   "metadata": {},
   "source": [
    "## Calculate p-value for permutation test"
   ]
  },
  {
   "cell_type": "markdown",
   "metadata": {},
   "source": [
    "First, let's recall that p-values in permutation test are the probability of getting results as extreme or more extreme than what we observed, given that the **null is true**. To do that, we count the number of test-statistics as or more extreme than our initially observed test statistic, and divide that number by the total number of permutation test-statistics we calculated. The direction ($>$ or $<$ than the observed test statistic) of \"as or more extreme\" needs to be determined by the hypothesis."
   ]
  },
  {
   "cell_type": "markdown",
   "metadata": {},
   "source": [
    "### Calculating p-value for a two-sided permutation test\n",
    "\n",
    "In the lecture notebook where we compared the Oklahoma earthquake magnitudes before and after 2010, our hypothesis were: \n",
    "\n",
    "- $H_0$: $\\mu_1 = \\mu_2$ (The average earthquake magnitudes before and after 2010 are the same)\n",
    "\n",
    "- $H_a$: $\\mu_1 \\ne \\mu_2$ (The average earthquake magnitudes before and after 2010 are NOT the same)"
   ]
  },
  {
   "cell_type": "markdown",
   "metadata": {},
   "source": [
    "Under the null hypothesis, we simulated a large number of permutation samples and calculated their test statistics. Here, the p-value we want to calculate is the probability of getting the results as extreme or more extreme than what we observed, given that the **null is true**.  This is a test with **two-sided** alternative hypothesis. When calculating the p-value, we want to count all the permuted test statistics (Ts) that are greater than the abosolute value of the observed Ts, and also those that are smaller than the negative value of the abosolute value of the observed Ts. That's why we used this code `np.sum(abs(perm_mag_ts) > abs(diff_obs)) / 10000`"
   ]
  },
  {
   "cell_type": "markdown",
   "metadata": {},
   "source": [
    "If you have limited information about your two groups, two-sided test is a safer and conservative choice. If you already have an idea about which group should have a larger mean, you can choose a test with one-sided alternative hypothesis. "
   ]
  },
  {
   "cell_type": "markdown",
   "metadata": {},
   "source": [
    "### Calculating p-value for a one-sided permutation test\n",
    "\n",
    "In the homework Question 2, after already seeing the decreasing trend of N2O emission in the figure, we are testing if the N2O emissions of the United States decreased since year 2005 compared with that before. Our hypothesis are supposed to be:  \n",
    "\n",
    "- $H_0$: $\\mu_1 = \\mu_2$ (The N2O emissions of the United States before and after 2005 were the same)\n",
    "\n",
    "- $H_a$: $\\mu_1 > \\mu_2$ (The N2O emissions of the United States after 2005 was less than that before)  \n",
    "where $\\mu_1$ is the population mean of N2O emission before 2005, $\\mu_2$ is that after 2005"
   ]
  },
  {
   "cell_type": "markdown",
   "metadata": {},
   "source": [
    "We are going to calculate the test statistic using *the mean of emissions before 2005* minus *the mean of emissions after 2005*. We will again simulate a large number of permutation samples under the **null hypothesis (N2O emission before and after 2005 were the same)** and calculate their test statistics. To compute the p-value, we want to see what is the percentage of the permuted test statistics that are as or more extreme than (in this case greater than or equal to) the observed test statistic."
   ]
  },
  {
   "cell_type": "markdown",
   "metadata": {},
   "source": [
    "<br>\n",
    "\n",
    "Please let me know if you have any questions or suggestions for this week's lecture and homework.\n",
    "\n",
    "Contact: Jia Liu; liu2040@iastate.edu"
   ]
  },
  {
   "cell_type": "code",
   "execution_count": null,
   "metadata": {},
   "outputs": [],
   "source": []
  }
 ],
 "metadata": {
  "kernelspec": {
   "display_name": "Python 3 (ipykernel)",
   "language": "python",
   "name": "python3"
  },
  "language_info": {
   "codemirror_mode": {
    "name": "ipython",
    "version": 3
   },
   "file_extension": ".py",
   "mimetype": "text/x-python",
   "name": "python",
   "nbconvert_exporter": "python",
   "pygments_lexer": "ipython3",
   "version": "3.9.12"
  }
 },
 "nbformat": 4,
 "nbformat_minor": 4
}
